{
  "nbformat": 4,
  "nbformat_minor": 0,
  "metadata": {
    "colab": {
      "provenance": [],
      "toc_visible": true,
      "authorship_tag": "ABX9TyOU7OVoM5WIsvyfOloY3iYK",
      "include_colab_link": true
    },
    "kernelspec": {
      "name": "python3",
      "display_name": "Python 3"
    },
    "language_info": {
      "name": "python"
    }
  },
  "cells": [
    {
      "cell_type": "markdown",
      "metadata": {
        "id": "view-in-github",
        "colab_type": "text"
      },
      "source": [
        "<a href=\"https://colab.research.google.com/github/danvasconcelos/testecolabpy/blob/main/Teste_em_PY.ipynb\" target=\"_parent\"><img src=\"https://colab.research.google.com/assets/colab-badge.svg\" alt=\"Open In Colab\"/></a>"
      ]
    },
    {
      "cell_type": "markdown",
      "source": [
        "# Primeiro teste em PY"
      ],
      "metadata": {
        "id": "mO_ZbKADF_tk"
      }
    },
    {
      "cell_type": "code",
      "execution_count": null,
      "metadata": {
        "colab": {
          "base_uri": "https://localhost:8080/"
        },
        "id": "MRguGISxFt9y",
        "outputId": "f91c0c4c-51ba-4246-a6e7-1900f59c37e8"
      },
      "outputs": [
        {
          "output_type": "stream",
          "name": "stdout",
          "text": [
            "Hello World!\n"
          ]
        }
      ],
      "source": [
        "Saudação = \"Hello World!\"\n",
        "print (Saudação)"
      ]
    },
    {
      "cell_type": "code",
      "source": [
        "print (\"Hello World\")"
      ],
      "metadata": {
        "colab": {
          "base_uri": "https://localhost:8080/"
        },
        "id": "J0XHLF6oGRDQ",
        "outputId": "69e23820-88b8-4b04-95da-e31cdbfe4d23"
      },
      "execution_count": null,
      "outputs": [
        {
          "output_type": "stream",
          "name": "stdout",
          "text": [
            "Hello World\n"
          ]
        }
      ]
    },
    {
      "cell_type": "code",
      "source": [
        "\"Hello World\"\n",
        "print (\"Hello World\")\n"
      ],
      "metadata": {
        "colab": {
          "base_uri": "https://localhost:8080/"
        },
        "id": "Kz_0JPlMGxiE",
        "outputId": "3e8bede4-f6c8-47b1-f683-272db3d062cd"
      },
      "execution_count": null,
      "outputs": [
        {
          "output_type": "stream",
          "name": "stdout",
          "text": [
            "Hello World\n"
          ]
        }
      ]
    },
    {
      "cell_type": "code",
      "source": [
        "\"Hello World\""
      ],
      "metadata": {
        "colab": {
          "base_uri": "https://localhost:8080/",
          "height": 35
        },
        "id": "-bzd1w0uNFB3",
        "outputId": "4ccc3953-5b51-43af-c7b9-f3116c40bd8d"
      },
      "execution_count": null,
      "outputs": [
        {
          "output_type": "execute_result",
          "data": {
            "text/plain": [
              "'Hello World'"
            ],
            "application/vnd.google.colaboratory.intrinsic+json": {
              "type": "string"
            }
          },
          "metadata": {},
          "execution_count": 75
        }
      ]
    },
    {
      "cell_type": "markdown",
      "source": [
        "# Adição, subtração, divisão e multilpicação\n"
      ],
      "metadata": {
        "id": "f3fdzxyKNv_6"
      }
    },
    {
      "cell_type": "code",
      "source": [
        "# soma\n",
        "3 + 2\n"
      ],
      "metadata": {
        "colab": {
          "base_uri": "https://localhost:8080/"
        },
        "id": "JbyevLYbNTF8",
        "outputId": "2783e443-57b0-4a98-f457-f24ec198aba4"
      },
      "execution_count": null,
      "outputs": [
        {
          "output_type": "execute_result",
          "data": {
            "text/plain": [
              "5"
            ]
          },
          "metadata": {},
          "execution_count": 62
        }
      ]
    },
    {
      "cell_type": "code",
      "source": [
        "# divisão\n",
        "3 / 2"
      ],
      "metadata": {
        "colab": {
          "base_uri": "https://localhost:8080/"
        },
        "id": "OaHgZVHwNfZJ",
        "outputId": "2f44b54f-2e7b-46c6-fd27-a0001d2ef35d"
      },
      "execution_count": null,
      "outputs": [
        {
          "output_type": "execute_result",
          "data": {
            "text/plain": [
              "1.5"
            ]
          },
          "metadata": {},
          "execution_count": 63
        }
      ]
    },
    {
      "cell_type": "code",
      "source": [
        "# multiplicação\n",
        "3 * 2"
      ],
      "metadata": {
        "colab": {
          "base_uri": "https://localhost:8080/"
        },
        "id": "z0T_fXbZNpbQ",
        "outputId": "8c1de2fb-b257-4557-d96a-f63a6464756f"
      },
      "execution_count": null,
      "outputs": [
        {
          "output_type": "execute_result",
          "data": {
            "text/plain": [
              "6"
            ]
          },
          "metadata": {},
          "execution_count": 64
        }
      ]
    },
    {
      "cell_type": "code",
      "source": [
        "# subtração\n",
        "3 - 2"
      ],
      "metadata": {
        "colab": {
          "base_uri": "https://localhost:8080/"
        },
        "id": "Aim1UsGGOJfi",
        "outputId": "649c6c84-1c69-4b27-c823-ee5d98ea0e60"
      },
      "execution_count": null,
      "outputs": [
        {
          "output_type": "execute_result",
          "data": {
            "text/plain": [
              "1"
            ]
          },
          "metadata": {},
          "execution_count": 65
        }
      ]
    },
    {
      "cell_type": "markdown",
      "source": [
        "Potenciação e Radiciação"
      ],
      "metadata": {
        "id": "Z3haf1v6QDtp"
      }
    },
    {
      "cell_type": "code",
      "source": [
        "# Potenciação"
      ],
      "metadata": {
        "id": "-sBGW7yqQUhA"
      },
      "execution_count": null,
      "outputs": []
    },
    {
      "cell_type": "code",
      "source": [
        "3 ** (2)"
      ],
      "metadata": {
        "colab": {
          "base_uri": "https://localhost:8080/"
        },
        "id": "sM9yAx6qP3h6",
        "outputId": "caa96a2d-a261-4488-fa54-345999a955ec"
      },
      "execution_count": null,
      "outputs": [
        {
          "output_type": "execute_result",
          "data": {
            "text/plain": [
              "9"
            ]
          },
          "metadata": {},
          "execution_count": 66
        }
      ]
    },
    {
      "cell_type": "code",
      "source": [
        "# Radiciação\n",
        "3**(2)"
      ],
      "metadata": {
        "colab": {
          "base_uri": "https://localhost:8080/"
        },
        "id": "nIibNz7VQf5N",
        "outputId": "927dc105-4482-4ca4-9124-5bb9f6a843f2"
      },
      "execution_count": null,
      "outputs": [
        {
          "output_type": "execute_result",
          "data": {
            "text/plain": [
              "9"
            ]
          },
          "metadata": {},
          "execution_count": 67
        }
      ]
    },
    {
      "cell_type": "code",
      "source": [
        "9**(1/2)"
      ],
      "metadata": {
        "colab": {
          "base_uri": "https://localhost:8080/"
        },
        "id": "onSIxldEQt-w",
        "outputId": "a1ef5761-8aca-44c4-9d11-2bb42dbdb9e3"
      },
      "execution_count": null,
      "outputs": [
        {
          "output_type": "execute_result",
          "data": {
            "text/plain": [
              "3.0"
            ]
          },
          "metadata": {},
          "execution_count": 71
        }
      ]
    },
    {
      "cell_type": "markdown",
      "source": [
        "# Usando estrutura em PY"
      ],
      "metadata": {
        "id": "lrf3228c04Yy"
      }
    },
    {
      "cell_type": "code",
      "source": [
        "\n",
        "texto = \"Aprendendo texto em Python.\"\n",
        "print (texto)\n",
        "print (f\"Python in texto = {'Python' in texto}\")"
      ],
      "metadata": {
        "colab": {
          "base_uri": "https://localhost:8080/"
        },
        "id": "uqvX12zywVHL",
        "outputId": "3a41e322-e368-4d43-ec65-6dd35d5856e5"
      },
      "execution_count": null,
      "outputs": [
        {
          "output_type": "stream",
          "name": "stdout",
          "text": [
            "Aprendendo texto em Python.\n",
            "Python in texto = True\n"
          ]
        }
      ]
    },
    {
      "cell_type": "code",
      "source": [
        "\n",
        "print (type(\"Aprendendo texto em Python.\"))\n",
        "print (\"Aprendendo texto em Python.\")"
      ],
      "metadata": {
        "colab": {
          "base_uri": "https://localhost:8080/"
        },
        "id": "8asqUHEp1BM3",
        "outputId": "e7e02ee9-4db3-490a-f8f6-a7acb3254c70"
      },
      "execution_count": null,
      "outputs": [
        {
          "output_type": "stream",
          "name": "stdout",
          "text": [
            "<class 'str'>\n",
            "Aprendendo texto em Python.\n"
          ]
        }
      ]
    },
    {
      "cell_type": "code",
      "source": [
        "print (\"Aprendendo texto em Python.\".upper())"
      ],
      "metadata": {
        "colab": {
          "base_uri": "https://localhost:8080/"
        },
        "id": "G9Q5Pi0D4aXR",
        "outputId": "0582bf2c-10b6-49e0-b91a-3e61cc02116e"
      },
      "execution_count": null,
      "outputs": [
        {
          "output_type": "stream",
          "name": "stdout",
          "text": [
            "APRENDENDO TEXTO EM PYTHON.\n"
          ]
        }
      ]
    },
    {
      "cell_type": "code",
      "source": [
        "print(f\"Tamanho do texto = {len(texto)}\")"
      ],
      "metadata": {
        "colab": {
          "base_uri": "https://localhost:8080/"
        },
        "id": "PWnYSGQ3-XUG",
        "outputId": "256fb246-0ef9-404c-e425-f2e83ef8ed4e"
      },
      "execution_count": null,
      "outputs": [
        {
          "output_type": "stream",
          "name": "stdout",
          "text": [
            "Tamanho do texto = 27\n"
          ]
        }
      ]
    },
    {
      "cell_type": "code",
      "source": [
        "print(f\"Quantidade de y no texto = {texto.count('y')}\")"
      ],
      "metadata": {
        "colab": {
          "base_uri": "https://localhost:8080/"
        },
        "id": "-mZs6lcp-37a",
        "outputId": "c1f544d7-b04d-4cd7-f991-e1648c41ceda"
      },
      "execution_count": null,
      "outputs": [
        {
          "output_type": "stream",
          "name": "stdout",
          "text": [
            "Quantidade de y no texto = 1\n"
          ]
        }
      ]
    },
    {
      "cell_type": "code",
      "source": [
        "print(f\"As 5 primeiras letras são: {texto[0:6]}\")"
      ],
      "metadata": {
        "colab": {
          "base_uri": "https://localhost:8080/"
        },
        "id": "H6r2gGIt_Dz-",
        "outputId": "96045c24-5d40-48bd-a1eb-e2ea54d18030"
      },
      "execution_count": null,
      "outputs": [
        {
          "output_type": "stream",
          "name": "stdout",
          "text": [
            "As 5 primeiras letras são: Aprend\n"
          ]
        }
      ]
    },
    {
      "cell_type": "code",
      "source": [
        "print(texto.replace(\"e\",'XX'))"
      ],
      "metadata": {
        "colab": {
          "base_uri": "https://localhost:8080/"
        },
        "id": "8KRCsgrc_QZM",
        "outputId": "55c5bd43-43c3-4bb2-d5f6-94c5e398d6ff"
      },
      "execution_count": null,
      "outputs": [
        {
          "output_type": "stream",
          "name": "stdout",
          "text": [
            "AprXXndXXndo tXXxto XXm Python.\n"
          ]
        }
      ]
    },
    {
      "cell_type": "code",
      "source": [
        "palavras = texto.split()\n",
        "print(f\"palavras = {palavras}\")\n",
        "print(f\"Tamanho de palavras = {len(palavras)}\")"
      ],
      "metadata": {
        "colab": {
          "base_uri": "https://localhost:8080/"
        },
        "id": "7mdroRWaBJOZ",
        "outputId": "56026761-df7e-4727-a369-5e4446c5ff89"
      },
      "execution_count": null,
      "outputs": [
        {
          "output_type": "stream",
          "name": "stdout",
          "text": [
            "palavras = ['Aprendendo', 'texto', 'em', 'Python.']\n",
            "Tamanho de palavras = 4\n"
          ]
        }
      ]
    },
    {
      "cell_type": "code",
      "source": [
        "texto = texto.lower()\n",
        "texto = texto.replace(\",\", \"\").replace(\".\", \"\").replace(\"(\", \"\").replace(\")\", \"\").replace(\"\\n\", \" \")\n",
        "lista_palavras = texto.split()\n",
        "print(f\"Tamanho da lista de palavras = {len(lista_palavras)}\")"
      ],
      "metadata": {
        "colab": {
          "base_uri": "https://localhost:8080/"
        },
        "id": "8bEzBk34Bbju",
        "outputId": "7cfabdec-2428-446d-ac97-bb169061a9fd"
      },
      "execution_count": null,
      "outputs": [
        {
          "output_type": "stream",
          "name": "stdout",
          "text": [
            "Tamanho da lista de palavras = 4\n"
          ]
        }
      ]
    },
    {
      "cell_type": "code",
      "source": [
        "total = lista_palavras.count(\"string\") + lista_palavras.count(\"strings\")\n",
        "\n",
        "print(f\"Quantidade de vezes que string ou strings aparecem = {total}\")"
      ],
      "metadata": {
        "colab": {
          "base_uri": "https://localhost:8080/"
        },
        "id": "dHtf0BY6BmFE",
        "outputId": "b34b4173-7933-4d8f-ad77-2de01f55ff3f"
      },
      "execution_count": null,
      "outputs": [
        {
          "output_type": "stream",
          "name": "stdout",
          "text": [
            "Quantidade de vezes que string ou strings aparecem = 0\n"
          ]
        }
      ]
    },
    {
      "cell_type": "markdown",
      "source": [
        "# Operadores Lógicos"
      ],
      "metadata": {
        "id": "Pw8fZgzXC4Pc"
      }
    },
    {
      "cell_type": "code",
      "source": [
        "idade = 18\n",
        "\n",
        "if idade < 3:\n",
        "    print(f\"Bebê\")\n",
        "elif idade >= 3 and idade < 12:\n",
        "    print(f\"Criança\")\n",
        "\n",
        "if idade >= 12 and idade < 18:\n",
        "    print(f\"Adolescente\")\n",
        "\n",
        "if idade < 18:\n",
        "    print(f\"Menor de idade\")\n",
        "\n",
        "elif idade >= 18 and idade < 65:\n",
        "    print(f\"Adulto\")\n",
        "\n",
        "else:\n",
        "    print(f\"Idoso\")"
      ],
      "metadata": {
        "colab": {
          "base_uri": "https://localhost:8080/"
        },
        "id": "BKFpJENIDV8e",
        "outputId": "22ed3c13-7b8c-4de5-ca9c-02c992d3c8c1"
      },
      "execution_count": null,
      "outputs": [
        {
          "output_type": "stream",
          "name": "stdout",
          "text": [
            "Adulto\n"
          ]
        }
      ]
    },
    {
      "cell_type": "code",
      "source": [
        "def dobro(x): return x * 2\n",
        "dobro(2)"
      ],
      "metadata": {
        "colab": {
          "base_uri": "https://localhost:8080/"
        },
        "id": "B7tkQkRJCQHx",
        "outputId": "9d3d4c2a-ac3f-46d8-c97a-8aa70da2cf9a"
      },
      "execution_count": null,
      "outputs": [
        {
          "output_type": "execute_result",
          "data": {
            "text/plain": [
              "4"
            ]
          },
          "metadata": {},
          "execution_count": 3
        }
      ]
    },
    {
      "cell_type": "code",
      "source": [
        "x = 10\n",
        "if x >= 10: print(\"Maior que 10\")"
      ],
      "metadata": {
        "colab": {
          "base_uri": "https://localhost:8080/"
        },
        "id": "tepb4STsDH3M",
        "outputId": "703693bf-ed86-4a97-d981-698cfa3a1503"
      },
      "execution_count": null,
      "outputs": [
        {
          "output_type": "stream",
          "name": "stdout",
          "text": [
            "Maior que 10\n"
          ]
        }
      ]
    },
    {
      "cell_type": "code",
      "source": [
        "numero = 10\n",
        "print (type(numero))"
      ],
      "metadata": {
        "colab": {
          "base_uri": "https://localhost:8080/"
        },
        "id": "ipbuRCptHJpX",
        "outputId": "ef34d520-08ec-4d14-b8dd-554974a745cf"
      },
      "execution_count": null,
      "outputs": [
        {
          "output_type": "stream",
          "name": "stdout",
          "text": [
            "<class 'int'>\n"
          ]
        }
      ]
    },
    {
      "cell_type": "markdown",
      "source": [
        "# Análise de Dados"
      ],
      "metadata": {
        "id": "DXgtaCs6GUg3"
      }
    },
    {
      "cell_type": "code",
      "source": [
        "import pandas as pd\n",
        "data = [10, 20, 30, 40, 50]\n",
        "series1 = pd.Series(data)\n",
        "print(series1)\n",
        "print(type(series1))\n",
        "# resultado"
      ],
      "metadata": {
        "colab": {
          "base_uri": "https://localhost:8080/"
        },
        "id": "CDEYriJ1GIlE",
        "outputId": "ce15a1cd-e444-48ea-ecd1-a5f6dd0a3304"
      },
      "execution_count": 2,
      "outputs": [
        {
          "output_type": "stream",
          "name": "stdout",
          "text": [
            "0    10\n",
            "1    20\n",
            "2    30\n",
            "3    40\n",
            "4    50\n",
            "dtype: int64\n",
            "<class 'pandas.core.series.Series'>\n"
          ]
        }
      ]
    },
    {
      "cell_type": "code",
      "source": [
        "# Conceitos\n",
        "import pandas as pd\n",
        "\n",
        "# Criando um DataFrame com 5 linhas de dados\n",
        "\n",
        "data = {\n",
        "\n",
        "    'nome': ['Produto A', 'Produto B', 'Produto C', 'Produto A', 'Produto E'],\n",
        "\n",
        "    'quantidade de itens comprados': [3, 1, 4, 3, 2],\n",
        "\n",
        "    'tipo de item': ['Eletrônico', 'Vestuário', 'Alimento', 'Eletrônico', 'Alimento'],\n",
        "\n",
        "    'receita total': [120, 80, 60, 120, 90]\n",
        "\n",
        "}\n",
        "\n",
        "df = pd.DataFrame(data)\n",
        "\n",
        "# Duplicando uma linha\n",
        "\n",
        "df.drop_duplicates(keep='last', inplace=True)\n",
        "\n",
        "# Calculando a coluna 'preço do item'\n",
        "\n",
        "df['preço do item'] = df['receita total'] / df['quantidade de itens comprados']\n",
        "\n",
        "# Selecionando preço do item acima de 50 reais\n",
        "\n",
        "itens_acima_de_50 = df[df['preço do item'] > 50]\n",
        "\n",
        "print(\"Itens acima de 50 reais:\")\n",
        "print(itens_acima_de_50)"
      ],
      "metadata": {
        "colab": {
          "base_uri": "https://localhost:8080/"
        },
        "id": "EPxm5mfPhKLi",
        "outputId": "6e041694-8dc1-4ad6-b259-6777c9ebfb63"
      },
      "execution_count": 23,
      "outputs": [
        {
          "output_type": "stream",
          "name": "stdout",
          "text": [
            "Itens acima de 50 reais:\n",
            "        nome  quantidade de itens comprados tipo de item  receita total  \\\n",
            "1  Produto B                              1    Vestuário             80   \n",
            "\n",
            "   preço do item  \n",
            "1           80.0  \n"
          ]
        }
      ]
    },
    {
      "cell_type": "code",
      "source": [
        "df.plot(x='quantidade de itens comprados', y='receita total', kind='bar')"
      ],
      "metadata": {
        "colab": {
          "base_uri": "https://localhost:8080/",
          "height": 461
        },
        "id": "FsA-4JJh4NPK",
        "outputId": "023d517d-c4ff-4ba9-a261-31d1893df6d9"
      },
      "execution_count": 39,
      "outputs": [
        {
          "output_type": "execute_result",
          "data": {
            "text/plain": [
              "<Axes: xlabel='quantidade de itens comprados'>"
            ]
          },
          "metadata": {},
          "execution_count": 39
        },
        {
          "output_type": "display_data",
          "data": {
            "text/plain": [
              "<Figure size 640x480 with 1 Axes>"
            ],
            "image/png": "[encoded data removed]"
          },
          "metadata": {}
        }
      ]
    },
    {
      "cell_type": "code",
      "source": [
        "df.plot(x='receita total', y='quantidade de itens comprados', kind='pie')"
      ],
      "metadata": {
        "colab": {
          "base_uri": "https://localhost:8080/",
          "height": 423
        },
        "id": "WvldfNw447Rz",
        "outputId": "ba4d5ed3-c29b-4e4b-f1b6-4e39027e60e4"
      },
      "execution_count": 36,
      "outputs": [
        {
          "output_type": "execute_result",
          "data": {
            "text/plain": [
              "<Axes: ylabel='quantidade de itens comprados'>"
            ]
          },
          "metadata": {},
          "execution_count": 36
        },
        {
          "output_type": "display_data",
          "data": {
            "text/plain": [
              "<Figure size 640x480 with 1 Axes>"
            ],
            "image/png": "[encoded data removed]"
          },
          "metadata": {}
        }
      ]
    },
    {
      "cell_type": "code",
      "source": [
        "df.plot(x='tipo de item', y='receita total', kind='line')"
      ],
      "metadata": {
        "colab": {
          "base_uri": "https://localhost:8080/",
          "height": 466
        },
        "id": "9Ea-8TNl5rgV",
        "outputId": "4746527e-23c9-472a-8048-07c162761875"
      },
      "execution_count": 45,
      "outputs": [
        {
          "output_type": "execute_result",
          "data": {
            "text/plain": [
              "<Axes: xlabel='tipo de item'>"
            ]
          },
          "metadata": {},
          "execution_count": 45
        },
        {
          "output_type": "display_data",
          "data": {
            "text/plain": [
              "<Figure size 640x480 with 1 Axes>"
            ],
            "image/png": "[encoded data removed]"
          },
          "metadata": {}
        }
      ]
    }
  ]
}